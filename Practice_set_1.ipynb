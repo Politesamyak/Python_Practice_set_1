{
 "cells": [
  {
   "cell_type": "code",
   "execution_count": 20,
   "id": "68689e36-3c8d-4500-8133-e99176e22177",
   "metadata": {},
   "outputs": [
    {
     "name": "stdout",
     "output_type": "stream",
     "text": [
      "11\n"
     ]
    }
   ],
   "source": [
    "# Q1. Write a Python program that defines a function called \"add_numbers\" that takes two arguments (i.e.,\n",
    "# numbers) and returns their sum. Within the function, add the two numbers together and return the result\n",
    "# using the return statement. Call the function with the values 5 and 6, and print out the returned result.\n",
    "# This will result in the addition of 5 and 6, with the output of the program being the sum of these two\n",
    "# numbers.\n",
    "\n",
    "import math\n",
    "def add_numbers(a,b):\n",
    "    sum = a+b\n",
    "result = 5+6\n",
    "print(result)"
   ]
  },
  {
   "cell_type": "code",
   "execution_count": 22,
   "id": "d14f897e-74c6-43bb-8993-7619437f3bec",
   "metadata": {},
   "outputs": [
    {
     "name": "stdout",
     "output_type": "stream",
     "text": [
      "Square root of 625: 25.0\n"
     ]
    }
   ],
   "source": [
    "# Q2. Write a Python program that calculates the square root of a given number using a built-in function.\n",
    "# Specifically, the program should take an integer or float input from the user, calculate its square root\n",
    "# using the 'sqrt()' function from the 'math' module, and print out the result to the user. As an example,\n",
    "# calculate the square root of the number 625 using this program, which should output the value of 25.\n",
    "\n",
    "import math\n",
    "sqrt_root = math.sqrt(625)\n",
    "print(\"Square root of 625:\",sqrt_root)"
   ]
  },
  {
   "cell_type": "code",
   "execution_count": 24,
   "id": "11f83d40-e1b8-4a06-9fe8-6d49650de64d",
   "metadata": {},
   "outputs": [
    {
     "name": "stdin",
     "output_type": "stream",
     "text": [
      "Please, Enter the Lowest Range Value:  0\n",
      "Please, Enter the Upper Range Value:  50\n"
     ]
    },
    {
     "name": "stdout",
     "output_type": "stream",
     "text": [
      "The Prime Numbers in the range are: \n",
      "2\n",
      "3\n",
      "5\n",
      "7\n",
      "11\n",
      "13\n",
      "17\n",
      "19\n",
      "23\n",
      "29\n",
      "31\n",
      "37\n",
      "41\n",
      "43\n",
      "47\n"
     ]
    }
   ],
   "source": [
    "# Q3.Write a program that prints all prime numbers between 0 to 50.\n",
    "\n",
    "\n",
    "# First, we will take the input:  \n",
    "lower_value = int(input (\"Please, Enter the Lowest Range Value: \"))  \n",
    "upper_value = int(input (\"Please, Enter the Upper Range Value: \"))  \n",
    "  \n",
    "print (\"The Prime Numbers in the range are: \")  \n",
    "for number in range (lower_value, upper_value + 1):  \n",
    "    if number > 1:  \n",
    "        for i in range (2, number):  \n",
    "            if (number % i) == 0:  \n",
    "                break  \n",
    "        else:  \n",
    "            print (number)  \n"
   ]
  },
  {
   "cell_type": "code",
   "execution_count": 39,
   "id": "1ac4f479-64bf-4ad3-a131-8d34125591f2",
   "metadata": {},
   "outputs": [
    {
     "name": "stdout",
     "output_type": "stream",
     "text": [
      "a = 9 b = 5 c = 8\n"
     ]
    }
   ],
   "source": [
    "# Q4.How can we swap the values of three variables (let's say a, b, and c) without using a fourth variable?\n",
    "# For example, if we have a=5, b=8, and c=9, how can we obtain a=9, b=5, and c=8? The challenge is to\n",
    "# perform this operation without using an additional variable to store any of the values during the swapping process?\n",
    "\n",
    "a = 5\n",
    "b = 8\n",
    "c = 9\n",
    "\n",
    "a ^= b\n",
    "b ^= a\n",
    "a ^= b\n",
    "\n",
    "a ^= c\n",
    "c ^= a\n",
    "a ^= c\n",
    "\n",
    "print(\"a =\", a, \"b =\", b, \"c =\", c)\n"
   ]
  },
  {
   "cell_type": "code",
   "execution_count": 9,
   "id": "f4770374-fb03-4359-9e4f-98317b9e7dc9",
   "metadata": {},
   "outputs": [
    {
     "name": "stdin",
     "output_type": "stream",
     "text": [
      "Enter the num:  10\n"
     ]
    },
    {
     "name": "stdout",
     "output_type": "stream",
     "text": [
      "postive\n"
     ]
    }
   ],
   "source": [
    "#Q5. Can you write a program that determines the nature of a given number (in this case, 87) as being\n",
    "#positive, negative, or zero? The program should be designed to take the number as input and perform the\n",
    "#necessary calculations to determine if the number is positive (i.e., greater than zero), negative (i.e., less\n",
    "#than zero), or zero (i.e., equal to zero). The output of the program should indicate which of these three\n",
    "#categories the given number falls into.\n",
    "\n",
    "num =  int(input (\"Enter the num: \" ))\n",
    "if num>0:\n",
    "    print (\"postive\")\n",
    "elif num<0:\n",
    "    print (\"negative\")\n",
    "else :\n",
    "    print (\"zero\")"
   ]
  },
  {
   "cell_type": "code",
   "execution_count": 10,
   "id": "9f856eb9-c1a0-48fd-8ab1-d63db95f9120",
   "metadata": {},
   "outputs": [
    {
     "name": "stdin",
     "output_type": "stream",
     "text": [
      "Enter the num: 15\n"
     ]
    },
    {
     "name": "stdout",
     "output_type": "stream",
     "text": [
      "odd\n"
     ]
    }
   ],
   "source": [
    "# Q6. How can you create a program that determines whether a given number (in this case, 98) is even or\n",
    "# odd? The program should be designed to take the number as input and perform the necessary\n",
    "# calculations to determine whether it is divisible by two. If the number is divisible by two without leaving a\n",
    "# remainder, it is an even number, and if there is a remainder, it is an odd number. The output of the\n",
    "# program should indicate whether the given number is even or odd.\n",
    "\n",
    "num1 = int(input(\"Enter the num:\"))\n",
    "if num1%2==0:\n",
    "    print(\"Even\")\n",
    "else :\n",
    "    print(\"odd\")\n",
    "\n"
   ]
  },
  {
   "cell_type": "code",
   "execution_count": 11,
   "id": "5ff165ba-915d-418d-87ea-3810fd4572df",
   "metadata": {},
   "outputs": [
    {
     "name": "stdout",
     "output_type": "stream",
     "text": [
      "The sum of the digits in the number 76543 is: 25\n"
     ]
    }
   ],
   "source": [
    "#Q7.Write a program for sum of digits.the digits are 76543 and the output should be  25\n",
    "\n",
    "num = 76543\n",
    "sum = 0\n",
    "\n",
    "while num > 0:\n",
    "    digit = num % 10\n",
    "    sum += digit\n",
    "    num //= 10\n",
    "\n",
    "print(\"The sum of the digits in the number 76543 is:\", sum)\n"
   ]
  },
  {
   "cell_type": "code",
   "execution_count": 12,
   "id": "0e25153c-1703-42ec-9de5-a267f2136a6d",
   "metadata": {},
   "outputs": [
    {
     "name": "stdout",
     "output_type": "stream",
     "text": [
      "Reversed Number: 4321\n"
     ]
    }
   ],
   "source": [
    "# Q8.Write a program for reversing the given number  5436 and the output  should be 6345.\n",
    "num = 1234\n",
    "reversed_num = 0\n",
    "\n",
    "while num != 0:\n",
    "    digit = num % 10\n",
    "    reversed_num = reversed_num * 10 + digit\n",
    "    num //= 10\n",
    "\n",
    "print(\"Reversed Number: \" + str(reversed_num))"
   ]
  },
  {
   "cell_type": "code",
   "execution_count": 13,
   "id": "4131c1ca-a740-484b-a3b7-74b0b9bc6ad8",
   "metadata": {},
   "outputs": [
    {
     "name": "stdin",
     "output_type": "stream",
     "text": [
      "Enter a number:  371\n"
     ]
    },
    {
     "name": "stdout",
     "output_type": "stream",
     "text": [
      "371 is an Armstrong number\n"
     ]
    }
   ],
   "source": [
    "# Q9.Write a program to check if a given number 371 is an Armstrong number?\n",
    "# Python program to check if the number is an Armstrong number or not\n",
    "\n",
    "# take input from the user\n",
    "num = int(input(\"Enter a number: \"))\n",
    "\n",
    "# initialize sum\n",
    "sum = 0\n",
    "\n",
    "# find the sum of the cube of each digit\n",
    "temp = num\n",
    "while temp > 0:\n",
    "   digit = temp % 10\n",
    "   sum += digit ** 3\n",
    "   temp //= 10\n",
    "\n",
    "# display the result\n",
    "if num == sum:\n",
    "   print(num,\"is an Armstrong number\")\n",
    "else:\n",
    "   print(num,\"is not an Armstrong number\")\n"
   ]
  },
  {
   "cell_type": "code",
   "execution_count": 19,
   "id": "c8d493b7-4ee0-4d31-a710-4a3d2c4acf00",
   "metadata": {},
   "outputs": [
    {
     "name": "stdin",
     "output_type": "stream",
     "text": [
      "Enter the year: 1997\n"
     ]
    },
    {
     "name": "stdout",
     "output_type": "stream",
     "text": [
      "Not a Leap year\n"
     ]
    }
   ],
   "source": [
    "# Q10.Write a program the given year is 1996, a leap year\n",
    "\n",
    "year = int(input(\"Enter the year:\"))\n",
    "if year%4==0 :\n",
    "    print(\"Leap year\")\n",
    "else:\n",
    "    print (\"Not a Leap year\")"
   ]
  },
  {
   "cell_type": "code",
   "execution_count": null,
   "id": "cacfe904-d8ca-48b2-8f95-5a4c5476fb80",
   "metadata": {},
   "outputs": [],
   "source": []
  }
 ],
 "metadata": {
  "kernelspec": {
   "display_name": "Python 3 (ipykernel)",
   "language": "python",
   "name": "python3"
  },
  "language_info": {
   "codemirror_mode": {
    "name": "ipython",
    "version": 3
   },
   "file_extension": ".py",
   "mimetype": "text/x-python",
   "name": "python",
   "nbconvert_exporter": "python",
   "pygments_lexer": "ipython3",
   "version": "3.10.8"
  }
 },
 "nbformat": 4,
 "nbformat_minor": 5
}
